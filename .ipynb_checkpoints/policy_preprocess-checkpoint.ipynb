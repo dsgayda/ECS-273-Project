{
 "cells": [
  {
   "cell_type": "code",
   "execution_count": 1,
   "metadata": {},
   "outputs": [],
   "source": [
    "import pandas as pd"
   ]
  },
  {
   "cell_type": "code",
   "execution_count": null,
   "metadata": {},
   "outputs": [],
   "source": [
    "policy_filepath = \"policyDatabase.xlsx\"\n",
    "codebook_filepath = \"policyCodebook.xlsx\"\n",
    "\n",
    "policies = pd.read_excel(policy_filepath)\n",
    "codebook = pd.read_excel(codebook_filepath)"
   ]
  },
  {
   "cell_type": "code",
   "execution_count": null,
   "metadata": {},
   "outputs": [],
   "source": [
    "policies[:5]"
   ]
  },
  {
   "cell_type": "code",
   "execution_count": null,
   "metadata": {},
   "outputs": [],
   "source": [
    "codebook[:5]"
   ]
  },
  {
   "cell_type": "markdown",
   "metadata": {},
   "source": [
    "## Getting policy counts for categories"
   ]
  },
  {
   "cell_type": "code",
   "execution_count": null,
   "metadata": {},
   "outputs": [],
   "source": [
    "sub_categories = {}\n",
    "for category in set(codebook['Sub-Category']):\n",
    "    sub_categories[category] = list(codebook[codebook['Sub-Category'] == category]['Variable Name'])"
   ]
  },
  {
   "cell_type": "code",
   "execution_count": null,
   "metadata": {},
   "outputs": [],
   "source": [
    "metadata = {'year':[], 'state':[], 'category':[], 'sub_category':[], 'policies_implemented':[]}\n",
    "for i in range(len(policies)):\n",
    "    for j, (sub_category, variables) in enumerate(sub_categories.items()):\n",
    "        metadata['year'].append(policies.year[i])\n",
    "        metadata['state'].append(policies.state[i])\n",
    "        metadata['category'].append(codebook[codebook['Sub-Category'] == sub_category].Category.iloc[0])\n",
    "        metadata['sub_category'].append(sub_category)\n",
    "        policies_implemented = 0\n",
    "        for variable in variables:\n",
    "            policies_implemented += policies[variable][i]\n",
    "        metadata['policies_implemented'].append(policies_implemented)"
   ]
  },
  {
   "cell_type": "code",
   "execution_count": null,
   "metadata": {},
   "outputs": [],
   "source": [
    "metadata_df = pd.DataFrame(metadata)\n",
    "metadata_df.sort_values(['year', 'state', 'category'], inplace=True)\n",
    "metadata_df = metadata_df[metadata_df.year > 2013]\n",
    "metadata_df = metadata_df[metadata_df.year < 2021]\n",
    "metadata_df"
   ]
  },
  {
   "cell_type": "code",
   "execution_count": null,
   "metadata": {},
   "outputs": [],
   "source": [
    "metadata_df[metadata_df.policies_implemented > 0]"
   ]
  },
  {
   "cell_type": "code",
   "execution_count": null,
   "metadata": {},
   "outputs": [],
   "source": [
    "metadata_df.to_csv('policy_metadata.csv', index=False)"
   ]
  },
  {
   "cell_type": "code",
   "execution_count": null,
   "metadata": {},
   "outputs": [],
   "source": []
  }
 ],
 "metadata": {
  "kernelspec": {
   "display_name": "Python 3",
   "language": "python",
   "name": "python3"
  },
  "language_info": {
   "codemirror_mode": {
    "name": "ipython",
    "version": 3
   },
   "file_extension": ".py",
   "mimetype": "text/x-python",
   "name": "python",
   "nbconvert_exporter": "python",
   "pygments_lexer": "ipython3",
   "version": "3.8.3"
  }
 },
 "nbformat": 4,
 "nbformat_minor": 4
}
